{
 "cells": [
  {
   "cell_type": "markdown",
   "metadata": {},
   "source": [
    "# WRITE A FUNCTION THAT RETURNS THE MAXIMUM OF TWO NUMBERS"
   ]
  },
  {
   "cell_type": "code",
   "execution_count": 1,
   "metadata": {},
   "outputs": [],
   "source": [
    "def maximum(a,b):\n",
    "    if a>b:\n",
    "        return a\n",
    "    elif b>a:\n",
    "        return b\n",
    "    else:\n",
    "        print(\"both are equal\")"
   ]
  },
  {
   "cell_type": "code",
   "execution_count": 2,
   "metadata": {},
   "outputs": [
    {
     "data": {
      "text/plain": [
       "5"
      ]
     },
     "execution_count": 2,
     "metadata": {},
     "output_type": "execute_result"
    }
   ],
   "source": [
    "maximum(4,5)"
   ]
  },
  {
   "cell_type": "markdown",
   "metadata": {},
   "source": [
    "# Write a function called fizz_buzz that takes a number.\n",
    "# • If the number is divisible by 3, it should return “Fizz”.\n",
    "# • If it is divisible by 5, it should return “Buzz”.\n",
    "# • If it is divisible by both 3 and 5, it should return “FizzBuzz”.\n",
    "# • Otherwise, it should return the same number.\n"
   ]
  },
  {
   "cell_type": "code",
   "execution_count": 3,
   "metadata": {},
   "outputs": [],
   "source": [
    "def fizz_buzz(num):\n",
    "    if(num%3==0)and(num%5==0):\n",
    "        return \"FizzBuzz\"\n",
    "    elif(num%3==0):\n",
    "        return \"Fizz\"\n",
    "    elif(num%5==0):\n",
    "        return \"Buzz\"\n",
    "    else:\n",
    "        return num\n",
    "    "
   ]
  },
  {
   "cell_type": "code",
   "execution_count": 4,
   "metadata": {},
   "outputs": [
    {
     "data": {
      "text/plain": [
       "'FizzBuzz'"
      ]
     },
     "execution_count": 4,
     "metadata": {},
     "output_type": "execute_result"
    }
   ],
   "source": [
    "fizz_buzz(15)"
   ]
  },
  {
   "cell_type": "markdown",
   "metadata": {},
   "source": [
    "# Write a function for checking the speed of drivers. This function should have one parameter: speed.\n",
    "# • If speed is less than 70, it should print “Ok”.\n",
    "# • Otherwise, for every 5km above the speed limit (70), it should give the\n",
    "# driver one demerit point and print the total number of demerit points. For\n",
    "# example, if the speed is 80, it should print: “Points: 2”.\n",
    "# • If the driver gets more than 12 points, the function should print: “License\n",
    "# suspended”\n"
   ]
  },
  {
   "cell_type": "code",
   "execution_count": 11,
   "metadata": {},
   "outputs": [],
   "source": [
    "def points(spped):\n",
    "    if(speed<70):\n",
    "        print(\"ok\")\n",
    "    else:\n",
    "        speed-=70\n",
    "        point=speed/5\n",
    "        if(point>12):\n",
    "            print(\"license suspended\")\n",
    "        "
   ]
  },
  {
   "cell_type": "code",
   "execution_count": null,
   "metadata": {},
   "outputs": [],
   "source": []
  },
  {
   "cell_type": "markdown",
   "metadata": {},
   "source": [
    "#  Write a function called showNumbers that takes a parameter called limit. It\n",
    "# should print all the numbers between 0 and limit with a label to identify the even and odd numbers. For example, if the limit is 3, it should print:\n",
    "# • 0 EVEN\n",
    "# • 1 ODD\n",
    "# • 2 EVEN\n",
    "# • 3 ODD\n"
   ]
  },
  {
   "cell_type": "code",
   "execution_count": 9,
   "metadata": {},
   "outputs": [],
   "source": [
    "def shownum(limit):\n",
    "    for i in range(limit+1):\n",
    "        if i%2==0:\n",
    "            print(i,\"even\")\n",
    "        else:\n",
    "            print(i,\"odd\")"
   ]
  },
  {
   "cell_type": "code",
   "execution_count": 10,
   "metadata": {},
   "outputs": [
    {
     "name": "stdout",
     "output_type": "stream",
     "text": [
      "0 even\n",
      "1 odd\n",
      "2 even\n",
      "3 odd\n",
      "4 even\n",
      "5 odd\n"
     ]
    }
   ],
   "source": [
    "shownum(5)"
   ]
  },
  {
   "cell_type": "markdown",
   "metadata": {},
   "source": [
    "# Write a function that returns the sum of multiples of 3 and 5 between 0\n",
    "# and limit (parameter). For example, if limit is 20, it should return the sum of 3, 5,6, 9, 10, 12, 15, 18, 20."
   ]
  },
  {
   "cell_type": "code",
   "execution_count": 7,
   "metadata": {},
   "outputs": [],
   "source": [
    "def mul(a):\n",
    "    count=0\n",
    "    for i in range(0,a):\n",
    "        if(i%3==0) or(i%5==0):\n",
    "            count+=i\n",
    "    return count"
   ]
  },
  {
   "cell_type": "code",
   "execution_count": 8,
   "metadata": {},
   "outputs": [
    {
     "data": {
      "text/plain": [
       "14"
      ]
     },
     "execution_count": 8,
     "metadata": {},
     "output_type": "execute_result"
    }
   ],
   "source": [
    "mul(7)"
   ]
  },
  {
   "cell_type": "code",
   "execution_count": null,
   "metadata": {},
   "outputs": [],
   "source": []
  }
 ],
 "metadata": {
  "kernelspec": {
   "display_name": "Python 3",
   "language": "python",
   "name": "python3"
  },
  "language_info": {
   "codemirror_mode": {
    "name": "ipython",
    "version": 3
   },
   "file_extension": ".py",
   "mimetype": "text/x-python",
   "name": "python",
   "nbconvert_exporter": "python",
   "pygments_lexer": "ipython3",
   "version": "3.8.5"
  }
 },
 "nbformat": 4,
 "nbformat_minor": 4
}
